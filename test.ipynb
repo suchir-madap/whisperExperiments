{
 "cells": [
  {
   "cell_type": "code",
   "execution_count": 32,
   "metadata": {},
   "outputs": [],
   "source": [
    "import whisper\n",
    "\n",
    "# Load the Whisper model\n",
    "model = whisper.load_model(\"base\")\n"
   ]
  },
  {
   "cell_type": "code",
   "execution_count": 33,
   "metadata": {},
   "outputs": [],
   "source": [
    "import os\n",
    "from dotenv import load_dotenv, dotenv_values \n",
    "\n",
    "load_dotenv() \n",
    "\n",
    "hfToken = os.getenv(\"hftoken\")\n"
   ]
  },
  {
   "cell_type": "markdown",
   "metadata": {},
   "source": [
    "pip install -U openai-whisper\n",
    "brew install ffmpeg   \n",
    "pip install pyannote.audio   \n",
    "  pip install setuptools-rust  \n",
    "  "
   ]
  },
  {
   "cell_type": "code",
   "execution_count": 34,
   "metadata": {},
   "outputs": [
    {
     "name": "stdout",
     "output_type": "stream",
     "text": [
      " The stale smell of old beer lingers. It takes heat to bring out the odor. A cold dip restores health and zest. A salt pickle tastes fine with ham. Tacos al pastor are my favorite. A zestful food is the hot cross bun.\n"
     ]
    }
   ],
   "source": [
    "# Transcribe an audio file\n",
    "result = model.transcribe(\"audioFiles/harvard.wav\")\n",
    "\n",
    "# Print the transcribed text\n",
    "print(result[\"text\"])"
   ]
  },
  {
   "cell_type": "code",
   "execution_count": 35,
   "metadata": {},
   "outputs": [
    {
     "data": {
      "text/plain": [
       "{'text': ' The stale smell of old beer lingers. It takes heat to bring out the odor. A cold dip restores health and zest. A salt pickle tastes fine with ham. Tacos al pastor are my favorite. A zestful food is the hot cross bun.',\n",
       " 'segments': [{'id': 0,\n",
       "   'seek': 0,\n",
       "   'start': 0.0,\n",
       "   'end': 4.48,\n",
       "   'text': ' The stale smell of old beer lingers.',\n",
       "   'tokens': [50364,\n",
       "    440,\n",
       "    342,\n",
       "    1220,\n",
       "    4316,\n",
       "    295,\n",
       "    1331,\n",
       "    8795,\n",
       "    22949,\n",
       "    433,\n",
       "    13,\n",
       "    50588],\n",
       "   'temperature': 0.0,\n",
       "   'avg_logprob': -0.25381717397205866,\n",
       "   'compression_ratio': 1.4210526315789473,\n",
       "   'no_speech_prob': 0.022390203550457954},\n",
       "  {'id': 1,\n",
       "   'seek': 0,\n",
       "   'start': 4.48,\n",
       "   'end': 7.0200000000000005,\n",
       "   'text': ' It takes heat to bring out the odor.',\n",
       "   'tokens': [50588, 467, 2516, 3738, 281, 1565, 484, 264, 41176, 13, 50715],\n",
       "   'temperature': 0.0,\n",
       "   'avg_logprob': -0.25381717397205866,\n",
       "   'compression_ratio': 1.4210526315789473,\n",
       "   'no_speech_prob': 0.022390203550457954},\n",
       "  {'id': 2,\n",
       "   'seek': 0,\n",
       "   'start': 7.0200000000000005,\n",
       "   'end': 9.94,\n",
       "   'text': ' A cold dip restores health and zest.',\n",
       "   'tokens': [50715,\n",
       "    316,\n",
       "    3554,\n",
       "    10460,\n",
       "    1472,\n",
       "    2706,\n",
       "    1585,\n",
       "    293,\n",
       "    37889,\n",
       "    13,\n",
       "    50861],\n",
       "   'temperature': 0.0,\n",
       "   'avg_logprob': -0.25381717397205866,\n",
       "   'compression_ratio': 1.4210526315789473,\n",
       "   'no_speech_prob': 0.022390203550457954},\n",
       "  {'id': 3,\n",
       "   'seek': 0,\n",
       "   'start': 9.94,\n",
       "   'end': 12.620000000000001,\n",
       "   'text': ' A salt pickle tastes fine with ham.',\n",
       "   'tokens': [50861, 316, 5139, 31433, 8666, 2489, 365, 7852, 13, 50995],\n",
       "   'temperature': 0.0,\n",
       "   'avg_logprob': -0.25381717397205866,\n",
       "   'compression_ratio': 1.4210526315789473,\n",
       "   'no_speech_prob': 0.022390203550457954},\n",
       "  {'id': 4,\n",
       "   'seek': 0,\n",
       "   'start': 12.620000000000001,\n",
       "   'end': 15.08,\n",
       "   'text': ' Tacos al pastor are my favorite.',\n",
       "   'tokens': [50995, 38848, 329, 419, 21193, 366, 452, 2954, 13, 51118],\n",
       "   'temperature': 0.0,\n",
       "   'avg_logprob': -0.25381717397205866,\n",
       "   'compression_ratio': 1.4210526315789473,\n",
       "   'no_speech_prob': 0.022390203550457954},\n",
       "  {'id': 5,\n",
       "   'seek': 0,\n",
       "   'start': 15.08,\n",
       "   'end': 17.6,\n",
       "   'text': ' A zestful food is the hot cross bun.',\n",
       "   'tokens': [51118,\n",
       "    316,\n",
       "    37889,\n",
       "    906,\n",
       "    1755,\n",
       "    307,\n",
       "    264,\n",
       "    2368,\n",
       "    3278,\n",
       "    6702,\n",
       "    13,\n",
       "    51244],\n",
       "   'temperature': 0.0,\n",
       "   'avg_logprob': -0.25381717397205866,\n",
       "   'compression_ratio': 1.4210526315789473,\n",
       "   'no_speech_prob': 0.022390203550457954}],\n",
       " 'language': 'en'}"
      ]
     },
     "execution_count": 35,
     "metadata": {},
     "output_type": "execute_result"
    }
   ],
   "source": [
    "result"
   ]
  },
  {
   "cell_type": "code",
   "execution_count": null,
   "metadata": {},
   "outputs": [],
   "source": []
  },
  {
   "cell_type": "markdown",
   "metadata": {},
   "source": [
    "# Testing Pyannote - Speech Diarization"
   ]
  },
  {
   "cell_type": "code",
   "execution_count": 36,
   "metadata": {},
   "outputs": [],
   "source": [
    "from pyannote.audio import Pipeline\n",
    "pipeline = Pipeline.from_pretrained(\"pyannote/speaker-diarization-3.1\",\n",
    "                                    use_auth_token=hfToken)\n",
    "\n",
    "# Pipeline.from_pretrained(\"\")\n",
    "# apply the pipeline to an audio file\n",
    "diarization = pipeline(\"audioFiles/suchir1.wav\")"
   ]
  },
  {
   "cell_type": "code",
   "execution_count": 37,
   "metadata": {},
   "outputs": [
    {
     "data": {
      "image/png": "[encoded data removed]",
      "text/plain": [
       "<pyannote.core.annotation.Annotation at 0x2901794d0>"
      ]
     },
     "execution_count": 37,
     "metadata": {},
     "output_type": "execute_result"
    }
   ],
   "source": [
    "diarization"
   ]
  },
  {
   "cell_type": "code",
   "execution_count": 38,
   "metadata": {},
   "outputs": [
    {
     "name": "stdout",
     "output_type": "stream",
     "text": [
      "start=0.3s stop=1.0s speaker_SPEAKER_01\n",
      "start=1.0s stop=1.5s speaker_SPEAKER_00\n",
      "start=2.2s stop=5.2s speaker_SPEAKER_01\n",
      "start=5.9s stop=9.3s speaker_SPEAKER_00\n",
      "start=10.3s stop=11.6s speaker_SPEAKER_01\n",
      "start=12.0s stop=13.5s speaker_SPEAKER_01\n",
      "start=14.3s stop=17.7s speaker_SPEAKER_00\n",
      "start=18.5s stop=22.1s speaker_SPEAKER_01\n",
      "start=22.5s stop=24.0s speaker_SPEAKER_00\n"
     ]
    }
   ],
   "source": [
    "import torch\n",
    "pipeline.to(torch.device(\"cpu\"))\n",
    "\n",
    "# apply pretrained pipeline\n",
    "diarization = pipeline(\"audioFiles/suchir1.wav\")\n",
    "\n",
    "# print the result\n",
    "for turn, _, speaker in diarization.itertracks(yield_label=True):\n",
    "    print(f\"start={turn.start:.1f}s stop={turn.end:.1f}s speaker_{speaker}\")"
   ]
  },
  {
   "cell_type": "markdown",
   "metadata": {},
   "source": [
    "# WhisperX Demo"
   ]
  },
  {
   "cell_type": "code",
   "execution_count": 48,
   "metadata": {},
   "outputs": [],
   "source": [
    "audioPath = \"audioFiles/suchir1.wav\""
   ]
  },
  {
   "cell_type": "code",
   "execution_count": 49,
   "metadata": {},
   "outputs": [],
   "source": [
    "script = model.transcribe(audioPath)\n"
   ]
  },
  {
   "cell_type": "code",
   "execution_count": 50,
   "metadata": {},
   "outputs": [],
   "source": [
    "from whisperx.diarize import DiarizationPipeline\n",
    "\n",
    "diarization_pipeline = DiarizationPipeline(use_auth_token=hfToken)\n",
    "diarized = diarization_pipeline(audioPath)"
   ]
  },
  {
   "cell_type": "code",
   "execution_count": 51,
   "metadata": {},
   "outputs": [
    {
     "data": {
      "text/html": [
       "<div>\n",
       "<style scoped>\n",
       "    .dataframe tbody tr th:only-of-type {\n",
       "        vertical-align: middle;\n",
       "    }\n",
       "\n",
       "    .dataframe tbody tr th {\n",
       "        vertical-align: top;\n",
       "    }\n",
       "\n",
       "    .dataframe thead th {\n",
       "        text-align: right;\n",
       "    }\n",
       "</style>\n",
       "<table border=\"1\" class=\"dataframe\">\n",
       "  <thead>\n",
       "    <tr style=\"text-align: right;\">\n",
       "      <th></th>\n",
       "      <th>segment</th>\n",
       "      <th>label</th>\n",
       "      <th>speaker</th>\n",
       "      <th>start</th>\n",
       "      <th>end</th>\n",
       "    </tr>\n",
       "  </thead>\n",
       "  <tbody>\n",
       "    <tr>\n",
       "      <th>0</th>\n",
       "      <td>[ 00:00:00.284 --&gt;  00:00:00.317]</td>\n",
       "      <td>A</td>\n",
       "      <td>SPEAKER_00</td>\n",
       "      <td>0.284094</td>\n",
       "      <td>0.317844</td>\n",
       "    </tr>\n",
       "    <tr>\n",
       "      <th>1</th>\n",
       "      <td>[ 00:00:00.317 --&gt;  00:00:01.026]</td>\n",
       "      <td>B</td>\n",
       "      <td>SPEAKER_01</td>\n",
       "      <td>0.317844</td>\n",
       "      <td>1.026594</td>\n",
       "    </tr>\n",
       "    <tr>\n",
       "      <th>2</th>\n",
       "      <td>[ 00:00:01.026 --&gt;  00:00:01.448]</td>\n",
       "      <td>C</td>\n",
       "      <td>SPEAKER_00</td>\n",
       "      <td>1.026594</td>\n",
       "      <td>1.448469</td>\n",
       "    </tr>\n",
       "    <tr>\n",
       "      <th>3</th>\n",
       "      <td>[ 00:00:02.174 --&gt;  00:00:05.144]</td>\n",
       "      <td>D</td>\n",
       "      <td>SPEAKER_01</td>\n",
       "      <td>2.174094</td>\n",
       "      <td>5.144094</td>\n",
       "    </tr>\n",
       "    <tr>\n",
       "      <th>4</th>\n",
       "      <td>[ 00:00:05.920 --&gt;  00:00:08.654]</td>\n",
       "      <td>E</td>\n",
       "      <td>SPEAKER_00</td>\n",
       "      <td>5.920344</td>\n",
       "      <td>8.654094</td>\n",
       "    </tr>\n",
       "    <tr>\n",
       "      <th>5</th>\n",
       "      <td>[ 00:00:08.856 --&gt;  00:00:09.345]</td>\n",
       "      <td>F</td>\n",
       "      <td>SPEAKER_00</td>\n",
       "      <td>8.856594</td>\n",
       "      <td>9.345969</td>\n",
       "    </tr>\n",
       "    <tr>\n",
       "      <th>6</th>\n",
       "      <td>[ 00:00:10.274 --&gt;  00:00:11.505]</td>\n",
       "      <td>G</td>\n",
       "      <td>SPEAKER_01</td>\n",
       "      <td>10.274094</td>\n",
       "      <td>11.505969</td>\n",
       "    </tr>\n",
       "    <tr>\n",
       "      <th>7</th>\n",
       "      <td>[ 00:00:11.978 --&gt;  00:00:13.497]</td>\n",
       "      <td>H</td>\n",
       "      <td>SPEAKER_01</td>\n",
       "      <td>11.978469</td>\n",
       "      <td>13.497219</td>\n",
       "    </tr>\n",
       "    <tr>\n",
       "      <th>8</th>\n",
       "      <td>[ 00:00:14.290 --&gt;  00:00:17.732]</td>\n",
       "      <td>I</td>\n",
       "      <td>SPEAKER_00</td>\n",
       "      <td>14.290344</td>\n",
       "      <td>17.732844</td>\n",
       "    </tr>\n",
       "    <tr>\n",
       "      <th>9</th>\n",
       "      <td>[ 00:00:18.492 --&gt;  00:00:22.120]</td>\n",
       "      <td>J</td>\n",
       "      <td>SPEAKER_01</td>\n",
       "      <td>18.492219</td>\n",
       "      <td>22.120344</td>\n",
       "    </tr>\n",
       "    <tr>\n",
       "      <th>10</th>\n",
       "      <td>[ 00:00:22.525 --&gt;  00:00:23.976]</td>\n",
       "      <td>K</td>\n",
       "      <td>SPEAKER_00</td>\n",
       "      <td>22.525344</td>\n",
       "      <td>23.976594</td>\n",
       "    </tr>\n",
       "  </tbody>\n",
       "</table>\n",
       "</div>"
      ],
      "text/plain": [
       "                              segment label     speaker      start        end\n",
       "0   [ 00:00:00.284 -->  00:00:00.317]     A  SPEAKER_00   0.284094   0.317844\n",
       "1   [ 00:00:00.317 -->  00:00:01.026]     B  SPEAKER_01   0.317844   1.026594\n",
       "2   [ 00:00:01.026 -->  00:00:01.448]     C  SPEAKER_00   1.026594   1.448469\n",
       "3   [ 00:00:02.174 -->  00:00:05.144]     D  SPEAKER_01   2.174094   5.144094\n",
       "4   [ 00:00:05.920 -->  00:00:08.654]     E  SPEAKER_00   5.920344   8.654094\n",
       "5   [ 00:00:08.856 -->  00:00:09.345]     F  SPEAKER_00   8.856594   9.345969\n",
       "6   [ 00:00:10.274 -->  00:00:11.505]     G  SPEAKER_01  10.274094  11.505969\n",
       "7   [ 00:00:11.978 -->  00:00:13.497]     H  SPEAKER_01  11.978469  13.497219\n",
       "8   [ 00:00:14.290 -->  00:00:17.732]     I  SPEAKER_00  14.290344  17.732844\n",
       "9   [ 00:00:18.492 -->  00:00:22.120]     J  SPEAKER_01  18.492219  22.120344\n",
       "10  [ 00:00:22.525 -->  00:00:23.976]     K  SPEAKER_00  22.525344  23.976594"
      ]
     },
     "execution_count": 51,
     "metadata": {},
     "output_type": "execute_result"
    }
   ],
   "source": [
    "diarized"
   ]
  },
  {
   "cell_type": "code",
   "execution_count": 52,
   "metadata": {},
   "outputs": [],
   "source": [
    "import torch\n",
    "DEVICE = torch.device(\"cuda\" if torch.cuda.is_available() else \"cpu\")"
   ]
  },
  {
   "cell_type": "code",
   "execution_count": 53,
   "metadata": {},
   "outputs": [],
   "source": [
    "from whisperx import load_align_model, align\n",
    "from whisperx.diarize import assign_word_speakers"
   ]
  },
  {
   "cell_type": "code",
   "execution_count": 54,
   "metadata": {},
   "outputs": [],
   "source": [
    "model_a, metadata = load_align_model(language_code=script[\"language\"], device=DEVICE)\n",
    "script_aligned = align(script[\"segments\"], model_a, metadata, audioPath, DEVICE)\n",
    "\n",
    "# Align Speakers\n",
    "result_segments, word_seg = list(assign_word_speakers(\n",
    "    diarized, script_aligned\n",
    ").values())\n",
    "transcribed = []\n",
    "for result_segment in result_segments:\n",
    "    transcribed.append(\n",
    "        {\n",
    "            \"start\": result_segment[\"start\"],\n",
    "            \"end\": result_segment[\"end\"],\n",
    "            \"text\": result_segment[\"text\"],\n",
    "            \"speaker\": result_segment[\"speaker\"],\n",
    "        }\n",
    "    )"
   ]
  },
  {
   "cell_type": "code",
   "execution_count": 55,
   "metadata": {},
   "outputs": [
    {
     "name": "stdout",
     "output_type": "stream",
     "text": [
      "0.303 0.788 SPEAKER_01  Hey, what's up?\n",
      "0.808 1.394 SPEAKER_00 What are you doing?\n",
      "2.261 2.784 SPEAKER_01  Not much.\n",
      "3.206 4.472 SPEAKER_01 Just playing some Minecraft.\n",
      "4.553 5.015 SPEAKER_01 How about you?\n",
      "6.0 9.256 SPEAKER_00  I'm trying to test out this audio detection program.\n",
      "10.583 11.447 SPEAKER_01  That's really cool.\n",
      "11.467 13.397 SPEAKER_01 What would the detection do?\n",
      "14.322 17.658 SPEAKER_00  It will identify various speakers inside of an audio file.\n",
      "18.603 22.0 SPEAKER_01  Oh, so will it detect me as a person and you as a person?\n",
      "22.687 23.212 SPEAKER_00  Exactly.\n",
      "23.232 23.939 SPEAKER_00 That's the goal.\n"
     ]
    }
   ],
   "source": [
    "for start, end, text, speaker in [i.values() for i in transcribed]:\n",
    "    print(start, end, speaker, text)\n"
   ]
  },
  {
   "cell_type": "code",
   "execution_count": null,
   "metadata": {},
   "outputs": [],
   "source": []
  }
 ],
 "metadata": {
  "kernelspec": {
   "display_name": "venv",
   "language": "python",
   "name": "python3"
  },
  "language_info": {
   "codemirror_mode": {
    "name": "ipython",
    "version": 3
   },
   "file_extension": ".py",
   "mimetype": "text/x-python",
   "name": "python",
   "nbconvert_exporter": "python",
   "pygments_lexer": "ipython3",
   "version": "3.11.9"
  }
 },
 "nbformat": 4,
 "nbformat_minor": 2
}
